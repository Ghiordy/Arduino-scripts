{
 "cells": [
  {
   "cell_type": "code",
   "execution_count": 1,
   "metadata": {},
   "outputs": [],
   "source": [
    "import numpy as np"
   ]
  },
  {
   "cell_type": "markdown",
   "metadata": {},
   "source": [
    "# Experimento 1\n",
    "Para IOPpaper se realizaron 10 pruebas ($n=10$) para cada desviación estandar $s_d$, tal que $s_d$ varía de $0.1$ a $0.5$, con 4 cifras significativas."
   ]
  },
  {
   "cell_type": "markdown",
   "metadata": {},
   "source": [
    "## Silhouette\n",
    " $\\mu_{sk} = \\dfrac{s_1+s_2+s_3+s_4+\\cdots+s_n}{n}$ "
   ]
  },
  {
   "cell_type": "code",
   "execution_count": 39,
   "metadata": {},
   "outputs": [
    {
     "data": {
      "text/plain": [
       "[0.2046, 0.0155]"
      ]
     },
     "execution_count": 39,
     "metadata": {},
     "output_type": "execute_result"
    }
   ],
   "source": [
    "e1us0=[000000,000000,000000,000000,000000,000000,000000,000000,000000,000000]#/10\n",
    "e1us1=[0.6912,0.6987,0.6930,0.6878,0.6916,0.6962,0.6997,0.6904,0.6974,0.6903]#/10\n",
    "e1us2=[0.5840,0.5822,0.5725,0.5704,0.5720,0.5835,0.5822,0.5541,0.5801,0.5639]#/10\n",
    "e1us3=[0.4557,0.4482,0.4361,0.4399,0.4262,0.4282,0.4594,0.4612,0.4459,0.4689]#/10\n",
    "e1us4=[0.3251,0.3464,0.3472,0.3409,0.3512,0.3529,0.3574,0.3335,0.3023,0.3363]#/10\n",
    "e1us5=[0.1891,0.2104,0.2237,0.2095,0.2064,0.2053,0.2079,0.2150,0.1788,0.1998]#/10\n",
    "mostra=np.array(e1us5)\n",
    "u=np.mean(mostra)\n",
    "delta=np.zeros((1,10),dtype='int')\n",
    "for i in range(len(mostra)):\n",
    "    delta=abs(mostra[0]-u)\n",
    "deltaF=np.mean(delta)\n",
    "[round(u,4),round(deltaF,4)]"
   ]
  },
  {
   "cell_type": "markdown",
   "metadata": {},
   "source": [
    "## Precision\n",
    "$\\mu_{p} = \\dfrac{p_1+p_2+p_3+p_4+\\cdots+p_n}{n}$  "
   ]
  },
  {
   "cell_type": "code",
   "execution_count": 40,
   "metadata": {},
   "outputs": [
    {
     "data": {
      "text/plain": [
       "[0.4971, 0.0015]"
      ]
     },
     "execution_count": 40,
     "metadata": {},
     "output_type": "execute_result"
    }
   ],
   "source": [
    "e1up0=[000000,000000,000000,000000,000000,000000,000000,000000,000000,000000]#/10\n",
    "e1up1=(0.9956+0.9956+0.9956+0.9944+0.9956+0.9956+0.9956+0.9944+0.9944+0.9944)#/10\n",
    "e1up2=(0.9967+0.9956+0.9956+0.9955+0.9967+0.9978+0.9956+0.9944+0.9956+0.9956)#/10\n",
    "e1up3=[0.9967,0.9956,0.9922,0.9922,0.9933,0.9956,0.9956,0.9944,0.9967,0.9956]#/10\n",
    "e1up4=[0.9956,0.9933,0.9956,0.9933,0.9878,0.9944,0.9956,0.9933,0.9833,0.9956]#/10\n",
    "e1up5=[0.4956,0.4956,0.4989,0.4967,0.4956,0.4978,0.4978,0.5000,0.4978,0.4956]#/10\n",
    "mostra=np.array(e1up5)\n",
    "u=np.mean(mostra)\n",
    "delta=np.zeros((1,10),dtype='int')\n",
    "for i in range(len(mostra)):\n",
    "    delta=abs(mostra[0]-u)\n",
    "deltaF=np.mean(delta)\n",
    "[round(u,4),round(deltaF,4)]"
   ]
  },
  {
   "cell_type": "markdown",
   "metadata": {},
   "source": [
    "## Recall\n",
    "$\\mu_{r} = \\dfrac{r_1+r_2+r_3+r_4+\\cdots+r_n}{n}$ "
   ]
  },
  {
   "cell_type": "code",
   "execution_count": null,
   "metadata": {},
   "outputs": [],
   "source": []
  },
  {
   "cell_type": "markdown",
   "metadata": {},
   "source": [
    "## Jaccard \n",
    "$\\mu_{j} = \\dfrac{j_1+j_2+j_3+j_4+\\cdots+j_n}{n}$ "
   ]
  },
  {
   "cell_type": "code",
   "execution_count": null,
   "metadata": {},
   "outputs": [],
   "source": []
  },
  {
   "cell_type": "markdown",
   "metadata": {},
   "source": [
    "## Post-Silhouette\n",
    " $\\mu_{sk} = \\dfrac{s_1+s_2+s_3+s_4+\\cdots+s_n}{n}$ "
   ]
  },
  {
   "cell_type": "code",
   "execution_count": 5,
   "metadata": {},
   "outputs": [
    {
     "data": {
      "text/plain": [
       "[0.8349, 0.0067]"
      ]
     },
     "execution_count": 5,
     "metadata": {},
     "output_type": "execute_result"
    }
   ],
   "source": [
    "e1ups0=[000000,000000,000000,000000,000000,000000,000000,000000,000000,000000]\n",
    "e1ups1=[0.9178,0.9182,0.9178,0.9157,0.9149,0.9174,0.9200,0.9175,0.9171,0.9176]\n",
    "e1ups2=[0.8942,0.8922,0.8871,0.8853,0.8876,0.8917,0.8922,0.8838,0.8926,0.8891]\n",
    "e1ups3=[0.8634,0.8611,0.8532,0.8604,0.8551,0.8522,0.8669,0.8650,0.8666,0.8598]\n",
    "e1ups4=[0.8416,0.8444,0.8248,0.8402,0.8365,0.8388,0.8390,0.8150,0.8316,0.8371]\n",
    "e1ups5=[000000,000000,000000,000000,000000,000000,000000,000000,000000,000000]\n",
    "mostra=np.array(e1ups4)\n",
    "u=np.mean(mostra)\n",
    "delta=np.zeros((1,10),dtype='int')\n",
    "for i in range(len(mostra)):\n",
    "    delta=abs(mostra[0]-u)\n",
    "deltaF=np.mean(delta)\n",
    "[round(u,4),round(deltaF,4)]"
   ]
  },
  {
   "cell_type": "markdown",
   "metadata": {},
   "source": [
    "# Experimento 2\n",
    "Para IOPpaper se realizaron 10 pruebas ($n=10$) para cada desviación estandar $s_d$, tal que $s_d$ varía de $0.1$ a $0.4$, con 4 cifras significativas."
   ]
  },
  {
   "cell_type": "markdown",
   "metadata": {},
   "source": [
    "## Silhouette\n",
    " $\\mu_{sk} = \\dfrac{s_1+s_2+s_3+s_4+\\cdots+s_n}{n}$ "
   ]
  },
  {
   "cell_type": "code",
   "execution_count": 11,
   "metadata": {},
   "outputs": [
    {
     "data": {
      "text/plain": [
       "[0.3664, 0.0148]"
      ]
     },
     "execution_count": 11,
     "metadata": {},
     "output_type": "execute_result"
    }
   ],
   "source": [
    "e2us0=[000000,000000,000000,000000,000000,000000,000000,000000,000000,000000]#/10\n",
    "e2us1=[0.8041,0.7950,0.7962,0.7899,0.8045,0.8095,0.7938,0.7992,0.7969,0.8001]#/10\n",
    "e2us2=[0.6235,0.6138,0.6391,0.6324,0.6083,0.6354,0.6273,0.6229,0.6449,0.6248]#/10\n",
    "e2us3=[0.4699,0.4642,0.4698,0.4579,0.4575,0.5025,0.4984,0.4753,0.4505,0.4506]#/10\n",
    "e2us4=[0.3516,0.3368,0.4276,0.3562,0.3970,0.3464,0.3554,0.3665,0.3300,0.3963]#/10\n",
    "e2us5=[000000,000000,000000,000000,000000,000000,000000,000000,000000,000000]#/10\n",
    "mostra=np.array(e2us4)\n",
    "u=np.mean(mostra)\n",
    "delta=np.zeros((1,10),dtype='int')\n",
    "for i in range(len(mostra)):\n",
    "    delta=abs(mostra[0]-u)\n",
    "deltaF=np.mean(delta)\n",
    "[round(u,4),round(deltaF,4)]"
   ]
  },
  {
   "cell_type": "markdown",
   "metadata": {},
   "source": [
    "## Precicion \n",
    "$\\mu_{p} = \\dfrac{p_1+p_2+p_3+p_4+\\cdots+p_n}{n}$  "
   ]
  },
  {
   "cell_type": "code",
   "execution_count": 17,
   "metadata": {},
   "outputs": [
    {
     "data": {
      "text/plain": [
       "[0.9932, 0.001]"
      ]
     },
     "execution_count": 17,
     "metadata": {},
     "output_type": "execute_result"
    }
   ],
   "source": [
    "e2up0=[000000,000000,000000,000000,000000,000000,000000,000000,000000,000000]#/10\n",
    "e2up1=[0.9933,0.9933,0.9933,0.9933,0.9933,0.9933,0.9933,0.9933,0.9933,0.9933]#/10\n",
    "e2up2=[0.9922,0.9933,0.9944,0.9933,0.9933,0.9933,0.9944,0.9933,0.9922,0.9922]#/10\n",
    "e2up3=[0.9944,0.9944,0.9967,0.9933,0.9967,0.9922,0.9933,1.0000,0.9911,0.9944]#/10\n",
    "e2up4=[1.0000,0.9944,0.9978,0.9933,0.9911,0.9900,0.9967,0.9944,0.9956,0.9922]#/10\n",
    "e2up5=[000000,000000,000000,000000,000000,000000,000000,000000,000000,000000]#/10\n",
    "mostra=np.array(e2up2)\n",
    "u=np.mean(mostra)\n",
    "delta=np.zeros((1,10),dtype='int')\n",
    "for i in range(len(mostra)):\n",
    "    delta=abs(mostra[0]-u)\n",
    "deltaF=np.mean(delta)\n",
    "[round(u,4),round(deltaF,4)]"
   ]
  },
  {
   "cell_type": "markdown",
   "metadata": {},
   "source": [
    "## Post-Silhouette\n",
    " $\\mu_{sk} = \\dfrac{s_1+s_2+s_3+s_4+\\cdots+s_n}{n}$ "
   ]
  },
  {
   "cell_type": "code",
   "execution_count": 16,
   "metadata": {},
   "outputs": [
    {
     "data": {
      "text/plain": [
       "[0.9184, 0.0033]"
      ]
     },
     "execution_count": 16,
     "metadata": {},
     "output_type": "execute_result"
    }
   ],
   "source": [
    "e2ups0=[000000,000000,000000,000000,000000,000000,000000,000000,000000,000000]#/10\n",
    "e2ups1=[0.9764,0.9760,0.9763,0.9748,0.9777,0.9776,0.9753,0.9756,0.9756,0.9769]#/10\n",
    "e2ups2=[0.9559,0.9556,0.9584,0.9576,0.9540,0.9576,0.9576,0.9564,0.9586,0.9565]#/10\n",
    "e2ups3=[0.9349,0.9369,0.9364,0.9385,0.9337,0.9390,0.9403,0.9363,0.9319,0.9341]#/10\n",
    "e2ups4=[0.9217,0.9112,0.9313,0.9166,0.9246,0.9093,0.9171,0.9242,0.9069,0.9210]#/10\n",
    "e2ups5=[000000,000000,000000,000000,000000,000000,000000,000000,000000,000000]#/10\n",
    "mostra=np.array(e2ups4)\n",
    "u=np.mean(mostra)\n",
    "delta=np.zeros((1,10),dtype='int')\n",
    "for i in range(len(mostra)):\n",
    "    delta=abs(mostra[0]-u)\n",
    "deltaF=np.mean(delta)\n",
    "[round(u,4),round(deltaF,4)]"
   ]
  }
 ],
 "metadata": {
  "kernelspec": {
   "display_name": "Python 3",
   "language": "python",
   "name": "python3"
  },
  "language_info": {
   "codemirror_mode": {
    "name": "ipython",
    "version": 3
   },
   "file_extension": ".py",
   "mimetype": "text/x-python",
   "name": "python",
   "nbconvert_exporter": "python",
   "pygments_lexer": "ipython3",
   "version": "3.6.5"
  }
 },
 "nbformat": 4,
 "nbformat_minor": 2
}
